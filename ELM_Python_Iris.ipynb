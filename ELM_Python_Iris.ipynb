{
  "nbformat": 4,
  "nbformat_minor": 0,
  "metadata": {
    "colab": {
      "name": "ELM-Python-Iris.ipynb",
      "provenance": [],
      "collapsed_sections": []
    },
    "kernelspec": {
      "name": "python3",
      "display_name": "Python 3"
    },
    "language_info": {
      "name": "python"
    }
  },
  "cells": [
    {
      "cell_type": "code",
      "metadata": {
        "colab": {
          "base_uri": "https://localhost:8080/",
          "height": 765
        },
        "id": "-hnm-k2KRFc7",
        "outputId": "33e38c5d-640a-4923-f40d-b0e4bf167a92"
      },
      "source": [
        "!pip install elm"
      ],
      "execution_count": 69,
      "outputs": [
        {
          "output_type": "stream",
          "name": "stdout",
          "text": [
            "Collecting elm\n",
            "  Downloading elm-0.1.3-py2.py3-none-any.whl (19 kB)\n",
            "Collecting deap==1.2.2\n",
            "  Downloading deap-1.2.2.tar.gz (936 kB)\n",
            "\u001b[K     |████████████████████████████████| 936 kB 16.6 MB/s \n",
            "\u001b[?25hCollecting optunity==1.1.1\n",
            "  Downloading Optunity-1.1.1.tar.gz (4.6 MB)\n",
            "\u001b[K     |████████████████████████████████| 4.6 MB 46.4 MB/s \n",
            "\u001b[?25hCollecting numpy==1.15.4\n",
            "  Downloading numpy-1.15.4-cp37-cp37m-manylinux1_x86_64.whl (13.8 MB)\n",
            "\u001b[K     |████████████████████████████████| 13.8 MB 20 kB/s \n",
            "\u001b[?25hBuilding wheels for collected packages: deap, optunity\n",
            "  Building wheel for deap (setup.py) ... \u001b[?25l\u001b[?25hdone\n",
            "  Created wheel for deap: filename=deap-1.2.2-cp37-cp37m-linux_x86_64.whl size=133813 sha256=8d1a90606d53d4b666a1594da959100a48d760c38c9e3c1790159a58b74738d0\n",
            "  Stored in directory: /root/.cache/pip/wheels/84/1b/38/94de55ab6f9b9b0e9ccb8d2e5fffadd76bf1cd1394f2890be4\n",
            "  Building wheel for optunity (setup.py) ... \u001b[?25l\u001b[?25hdone\n",
            "  Created wheel for optunity: filename=Optunity-1.1.1-py3-none-any.whl size=72031 sha256=a769d771a8d398318bf0a4887cea362a510c345d4d99742b93f9fb52fe7aa606\n",
            "  Stored in directory: /root/.cache/pip/wheels/0d/0e/31/a4763ff822a20f88a61dd3bb1c8b78a8f25c605392fe956d07\n",
            "Successfully built deap optunity\n",
            "Installing collected packages: optunity, numpy, deap, elm\n",
            "  Attempting uninstall: numpy\n",
            "    Found existing installation: numpy 1.19.5\n",
            "    Uninstalling numpy-1.19.5:\n",
            "      Successfully uninstalled numpy-1.19.5\n",
            "\u001b[31mERROR: pip's dependency resolver does not currently take into account all the packages that are installed. This behaviour is the source of the following dependency conflicts.\n",
            "xarray 0.18.2 requires numpy>=1.17, but you have numpy 1.15.4 which is incompatible.\n",
            "tensorflow 2.6.0 requires numpy~=1.19.2, but you have numpy 1.15.4 which is incompatible.\n",
            "pyerfa 2.0.0 requires numpy>=1.17, but you have numpy 1.15.4 which is incompatible.\n",
            "pyarrow 3.0.0 requires numpy>=1.16.6, but you have numpy 1.15.4 which is incompatible.\n",
            "plotnine 0.6.0 requires numpy>=1.16.0, but you have numpy 1.15.4 which is incompatible.\n",
            "kapre 0.3.5 requires numpy>=1.18.5, but you have numpy 1.15.4 which is incompatible.\n",
            "jaxlib 0.1.71+cuda111 requires numpy>=1.18, but you have numpy 1.15.4 which is incompatible.\n",
            "jax 0.2.21 requires numpy>=1.18, but you have numpy 1.15.4 which is incompatible.\n",
            "datascience 0.10.6 requires folium==0.2.1, but you have folium 0.8.3 which is incompatible.\n",
            "astropy 4.3.1 requires numpy>=1.17, but you have numpy 1.15.4 which is incompatible.\n",
            "albumentations 0.1.12 requires imgaug<0.2.7,>=0.2.5, but you have imgaug 0.2.9 which is incompatible.\u001b[0m\n",
            "Successfully installed deap-1.2.2 elm-0.1.3 numpy-1.15.4 optunity-1.1.1\n"
          ]
        },
        {
          "output_type": "display_data",
          "data": {
            "application/vnd.colab-display-data+json": {
              "pip_warning": {
                "packages": [
                  "numpy"
                ]
              }
            }
          },
          "metadata": {}
        }
      ]
    },
    {
      "cell_type": "code",
      "metadata": {
        "id": "DbwED7BdRX7u"
      },
      "source": [
        "import elm\n",
        "import numpy as np\n",
        "import random\n",
        "import matplotlib.pyplot as plt\n",
        "from sklearn.model_selection import train_test_split\n",
        "from sklearn.preprocessing import StandardScaler\n",
        "from  sklearn import  datasets\n",
        "import numpy as np\n",
        "import pandas as pd\n",
        "from sklearn.datasets import load_iris\n",
        "from sklearn.model_selection import train_test_split\n",
        "from sklearn.preprocessing import StandardScaler\n",
        "%matplotlib inline\n",
        "\n",
        "np.random.seed(42)\n",
        "\n",
        "iris = load_iris()\n",
        "X = iris['data']\n",
        "y = iris['target']\n",
        "names = iris['target_names']\n",
        "feature_names = iris['feature_names']"
      ],
      "execution_count": 2,
      "outputs": []
    },
    {
      "cell_type": "code",
      "metadata": {
        "colab": {
          "base_uri": "https://localhost:8080/",
          "height": 339
        },
        "id": "GaV5ORedRe2t",
        "outputId": "d611c101-676b-430d-c8de-b8ca826895c3"
      },
      "source": [
        "import matplotlib.pyplot as plt \n",
        "plt.style.use('ggplot')\n",
        "\n",
        "fig, (ax1, ax2) = plt.subplots(1, 2, figsize=(16, 6))\n",
        "for target, target_name in enumerate(names):\n",
        "    X_plot = X[y == target]\n",
        "    ax1.plot(X_plot[:, 0], X_plot[:, 1], \n",
        "             linestyle='none', \n",
        "             marker='o', \n",
        "             label=target_name)\n",
        "ax1.set_xlabel(feature_names[0])\n",
        "ax1.set_ylabel(feature_names[1])\n",
        "ax1.axis('equal')\n",
        "ax1.legend();\n",
        "\n",
        "for target, target_name in enumerate(names):\n",
        "    X_plot = X[y == target]\n",
        "    ax2.plot(X_plot[:, 2], X_plot[:, 3], \n",
        "             linestyle='none', \n",
        "             marker='o', \n",
        "             label=target_name)\n",
        "ax2.set_xlabel(feature_names[2])\n",
        "ax2.set_ylabel(feature_names[3])\n",
        "ax2.axis('equal')\n",
        "ax2.legend();"
      ],
      "execution_count": 3,
      "outputs": [
        {
          "output_type": "display_data",
          "data": {
            "image/png": "[encoded data removed]",
            "text/plain": [
              "<Figure size 1152x432 with 2 Axes>"
            ]
          },
          "metadata": {}
        }
      ]
    },
    {
      "cell_type": "code",
      "metadata": {
        "colab": {
          "base_uri": "https://localhost:8080/"
        },
        "id": "jSbt0OTLRtdQ",
        "outputId": "917ce87a-1bdd-4529-a869-749bcb3e56ea"
      },
      "source": [
        "from sklearn.preprocessing import StandardScaler\n",
        "\n",
        "scaler = StandardScaler()\n",
        "X_scaled = scaler.fit_transform(X)\n",
        "\n",
        "# Split the data set into training and testing\n",
        "X_train, X_test, y_train, y_test = train_test_split(X_scaled, y, test_size=0.3, random_state=True)\n",
        "\n",
        "print(\"Training Shape\", X_train.shape, y_train.shape)\n",
        "print(\"Testing Shape\", X_test.shape, y_test.shape)"
      ],
      "execution_count": 4,
      "outputs": [
        {
          "output_type": "stream",
          "name": "stdout",
          "text": [
            "Training Shape (105, 4) (105,)\n",
            "Testing Shape (45, 4) (45,)\n"
          ]
        }
      ]
    },
    {
      "cell_type": "code",
      "metadata": {
        "colab": {
          "base_uri": "https://localhost:8080/"
        },
        "id": "YuPZqcESRxkf",
        "outputId": "8771c40e-a8e2-4f79-c5cf-a3552bfb4a2d"
      },
      "source": [
        "# load dataset\n",
        "iris = elm.read(\"/content/iris.data\")\n",
        "\n",
        "# create a classifier\n",
        "elmk = elm.ELMKernel()\n",
        "\n",
        "# search for best parameter for this dataset\n",
        "# define \"kfold\" cross-validation method, \"accuracy\" as a objective function\n",
        "# to be optimized and perform 10 searching steps.\n",
        "# best parameters will be saved inside 'elmk' object\n",
        "elmk.search_param(iris, cv=\"kfold\", of=\"accuracy\", eval=10)\n",
        "\n",
        "# split data in training and testing sets\n",
        "# use 80% of dataset to training and shuffle data before splitting\n",
        "tr_set, te_set = elm.split_sets(iris, training_percent=.8, perm=True)\n",
        "\n",
        "#train and test\n",
        "# results are Error objects\n",
        "tr_result = elmk.train(tr_set)\n",
        "te_result = elmk.test(te_set)\n",
        "\n",
        "print(te_result.get_accuracy)"
      ],
      "execution_count": 5,
      "outputs": [
        {
          "output_type": "stream",
          "name": "stdout",
          "text": [
            "elmk\n",
            "##### Start search #####\n",
            "Kernel function:  rbf  best cv value:  0.9533333333333334\n",
            "Kernel function:  linear  best cv value:  0.9733333333333335\n"
          ]
        },
        {
          "output_type": "stream",
          "name": "stderr",
          "text": [
            "/usr/local/lib/python3.7/dist-packages/deap/creator.py:141: RuntimeWarning: A class named 'FitnessMax' has already been created and it will be overwritten. Consider deleting previous creation of that class or rename it.\n",
            "  RuntimeWarning)\n",
            "/usr/local/lib/python3.7/dist-packages/deap/creator.py:141: RuntimeWarning: A class named 'Individual' has already been created and it will be overwritten. Consider deleting previous creation of that class or rename it.\n",
            "  RuntimeWarning)\n"
          ]
        },
        {
          "output_type": "stream",
          "name": "stdout",
          "text": [
            "Kernel function:  poly  best cv value:  0.9800000000000002\n",
            "##### Search complete #####\n",
            "\n",
            "Regressor Parameters\n",
            "\n",
            "Regularization coefficient:  1.0831785970562564\n",
            "Kernel Function:  poly\n",
            "Kernel parameters:  [0.7367577554410882, 2.433039024446756]\n",
            "\n",
            "CV error:  0.9800000000000002\n",
            "\n",
            "<bound method Error.get_accuracy of <elm.mltools.Error object at 0x7f85693f7a50>>\n"
          ]
        }
      ]
    },
    {
      "cell_type": "code",
      "metadata": {
        "id": "pEtuBcCHYJnW"
      },
      "source": [
        ""
      ],
      "execution_count": null,
      "outputs": []
    },
    {
      "cell_type": "code",
      "metadata": {
        "colab": {
          "base_uri": "https://localhost:8080/"
        },
        "id": "PRwxUHxSYKl_",
        "outputId": "22dd5214-578c-45ed-8377-95d3993bbd9a"
      },
      "source": [
        "import numpy as np\n",
        "import pandas as pd\n",
        "from sklearn.preprocessing import OneHotEncoder\n",
        "from sklearn.preprocessing import MinMaxScaler\n",
        "from sklearn.preprocessing import StandardScaler\n",
        "from scipy.linalg import pinv2\n",
        "from sklearn.datasets import load_iris\n",
        "from sklearn.model_selection import train_test_split\n",
        "%matplotlib inline\n",
        "\n",
        "np.random.seed(42)\n",
        "\n",
        "def relu(x):\n",
        "  return np.maximum(x, 0, x)\n",
        "\n",
        "def hidden_nodes(X):\n",
        "  G = np.dot(X, input_weights)\n",
        "  G = G + biases\n",
        "  H = relu(G)\n",
        "  return H\n",
        "\n",
        "def predict(X,output_weights):\n",
        "  out = hidden_nodes(X)\n",
        "  out = np.dot(out, output_weights)\n",
        "  return out\n",
        "\n",
        "iris = load_iris()\n",
        "X = iris['data']\n",
        "y = iris['target']\n",
        "names = iris['target_names']\n",
        "feature_names = iris['feature_names']\n",
        "\n",
        "from sklearn.preprocessing import StandardScaler\n",
        "\n",
        "scaler = StandardScaler()\n",
        "X_scaled = scaler.fit_transform(X)\n",
        "\n",
        "# Split the data set into training and testing\n",
        "X_train, X_test, y_train, y_test = train_test_split(X_scaled, y, test_size=0.3, random_state=True)\n",
        "\n",
        "print(\"Training Shape\", X_train.shape, y_train.shape)\n",
        "print(\"Testing Shape\", X_test.shape, y_test.shape)\n",
        "\n",
        "input_size = X_train.shape[1]\n",
        "hidden_size = 10\n",
        "\n",
        "input_weights = np.random.normal(size=[input_size,hidden_size])\n",
        "biases = np.random.normal(size=[hidden_size])\n",
        "\n",
        "output_weights = np.dot(pinv2(hidden_nodes(X_train)), y_train)\n",
        "\n",
        "prediction = predict(X_test, output_weights)\n",
        "correct = 0\n",
        "total = X_test.shape[0]\n",
        "\n",
        "for i in range(total):\n",
        "  predicted = np.round(prediction[i])\n",
        "  actual = y_test[i]\n",
        "  if predicted == actual:\n",
        "    correct += 1\n",
        "  else: \n",
        "    correct += 0\n",
        "\n",
        "accuracy = correct/total\n",
        "print('Accuracy for ', hidden_size, ' hidden nodes: ', accuracy)"
      ],
      "execution_count": 6,
      "outputs": [
        {
          "output_type": "stream",
          "name": "stdout",
          "text": [
            "Training Shape (105, 4) (105,)\n",
            "Testing Shape (45, 4) (45,)\n",
            "Accuracy for  10  hidden nodes:  1.0\n"
          ]
        }
      ]
    },
    {
      "cell_type": "code",
      "metadata": {
        "colab": {
          "base_uri": "https://localhost:8080/"
        },
        "id": "x2bxDx4eZ2_P",
        "outputId": "d18c25e1-e2ef-45d8-f9be-88785cad571f"
      },
      "source": [
        "#For single sample prediction\n",
        "k=40\n",
        "pred = predict(X_test[k], output_weights)\n",
        "predicted = np.round(pred)\n",
        "if predicted == y_test[k]:\n",
        "  correct = 1\n",
        "else: \n",
        "  correct = 0\n",
        "\n",
        "print(\"Actual:\",y_test[k], \"Predicted:\", predicted)\n",
        "print(\"Accuracy:\", correct*100)"
      ],
      "execution_count": 7,
      "outputs": [
        {
          "output_type": "stream",
          "name": "stdout",
          "text": [
            "Actual: 2 Predicted: 2.0\n",
            "Accuracy: 100\n"
          ]
        }
      ]
    },
    {
      "cell_type": "code",
      "metadata": {
        "id": "0pJVjQLQltDh"
      },
      "source": [
        "import pickle\n",
        "\n",
        "pickle.dump(output_weights, open('elm_iris.pkl', 'wb'))"
      ],
      "execution_count": 8,
      "outputs": []
    },
    {
      "cell_type": "code",
      "metadata": {
        "colab": {
          "base_uri": "https://localhost:8080/"
        },
        "id": "izjhmGeqni94",
        "outputId": "cce01af0-a5d5-4988-9b6f-92ea5a022b5c"
      },
      "source": [
        "# Deserialization of the file\n",
        "new_weights = pickle.load(open('elm_iris.pkl','rb'))\n",
        "\n",
        "#For single sample prediction\n",
        "k=17\n",
        "pred = predict(X_test[k], new_weights)\n",
        "predicted = np.round(pred)\n",
        "if predicted == y_test[k]:\n",
        "  correct = 1\n",
        "else: \n",
        "  correct = 0\n",
        "\n",
        "print(\"Actual:\",y_test[k], \"Predicted:\", predicted)\n",
        "print(\"Accuracy:\", correct*100)"
      ],
      "execution_count": 9,
      "outputs": [
        {
          "output_type": "stream",
          "name": "stdout",
          "text": [
            "Actual: 1 Predicted: 1.0\n",
            "Accuracy: 100\n"
          ]
        }
      ]
    },
    {
      "cell_type": "code",
      "metadata": {
        "id": "BffrHv-Rd9Jw"
      },
      "source": [
        "##http://wdm0006.github.io/sklearn-extensions/extreme_learning_machines.html"
      ],
      "execution_count": null,
      "outputs": []
    },
    {
      "cell_type": "code",
      "metadata": {
        "colab": {
          "base_uri": "https://localhost:8080/"
        },
        "id": "EI9No_YAeav5",
        "outputId": "fc4fdc54-365a-482c-8b1d-f409404c92f0"
      },
      "source": [
        "!pip install sklearn_extensions"
      ],
      "execution_count": 10,
      "outputs": [
        {
          "output_type": "stream",
          "name": "stdout",
          "text": [
            "Collecting sklearn_extensions\n",
            "  Downloading sklearn-extensions-0.0.2.tar.gz (19 kB)\n",
            "Requirement already satisfied: numpy>=1.9.0 in /usr/local/lib/python3.7/dist-packages (from sklearn_extensions) (1.15.4)\n",
            "Requirement already satisfied: scikit-learn>=0.15 in /usr/local/lib/python3.7/dist-packages (from sklearn_extensions) (0.22.2.post1)\n",
            "Requirement already satisfied: scipy>=0.16.0 in /usr/local/lib/python3.7/dist-packages (from sklearn_extensions) (1.4.1)\n",
            "Requirement already satisfied: joblib>=0.11 in /usr/local/lib/python3.7/dist-packages (from scikit-learn>=0.15->sklearn_extensions) (1.0.1)\n",
            "Building wheels for collected packages: sklearn-extensions\n",
            "  Building wheel for sklearn-extensions (setup.py) ... \u001b[?25l\u001b[?25hdone\n",
            "  Created wheel for sklearn-extensions: filename=sklearn_extensions-0.0.2-py2.py3-none-any.whl size=24578 sha256=ff8147156b70c6ee37fbd3f61b5b3525ceb9b8eaeee38b291dcde2ca630cbedb\n",
            "  Stored in directory: /root/.cache/pip/wheels/2b/a8/2c/b8896a9d6768f168eeaa54289c35bc36d6b1ba0c5b99c9cc84\n",
            "Successfully built sklearn-extensions\n",
            "Installing collected packages: sklearn-extensions\n",
            "Successfully installed sklearn-extensions-0.0.2\n"
          ]
        }
      ]
    },
    {
      "cell_type": "code",
      "metadata": {
        "colab": {
          "base_uri": "https://localhost:8080/"
        },
        "id": "VPvzMcqPd9NC",
        "outputId": "035c153f-d388-4397-84d3-a5e8b062c23d"
      },
      "source": [
        "import numpy as np\n",
        "from sklearn.datasets import make_moons, make_circles, make_classification\n",
        "from sklearn.preprocessing import StandardScaler\n",
        "from sklearn.datasets import load_iris\n",
        "from sklearn.model_selection import train_test_split\n",
        "\n",
        "from sklearn_extensions.extreme_learning_machines.elm import GenELMClassifier\n",
        "from sklearn_extensions.extreme_learning_machines.random_layer import RBFRandomLayer, MLPRandomLayer\n",
        "\n",
        "np.random.seed(42)\n",
        "\n",
        "def make_classifiers():\n",
        "    \"\"\"\n",
        "\n",
        "    :return:\n",
        "    \"\"\"\n",
        "\n",
        "    names = [\"ELM(10,tanh)\", \"ELM(10,sinsq)\", \"ELM(10,tribas)\", \"ELM(hardlim)\", \"ELM(20,rbf(0.1))\"]\n",
        "\n",
        "    nh = 1000\n",
        "\n",
        "    # pass user defined transfer func\n",
        "    sinsq = (lambda x: np.power(np.sin(x), 2.0))\n",
        "    srhl_sinsq = MLPRandomLayer(n_hidden=nh, activation_func=sinsq)\n",
        "\n",
        "    # use internal transfer funcs\n",
        "    srhl_tanh = MLPRandomLayer(n_hidden=nh, activation_func='tanh')\n",
        "    srhl_tribas = MLPRandomLayer(n_hidden=nh, activation_func='tribas')\n",
        "    srhl_hardlim = MLPRandomLayer(n_hidden=nh, activation_func='hardlim')\n",
        "\n",
        "    # use gaussian RBF\n",
        "    srhl_rbf = RBFRandomLayer(n_hidden=nh*2, rbf_width=0.1, random_state=0)\n",
        "    \n",
        "    classifiers = [GenELMClassifier(hidden_layer=srhl_tanh),\n",
        "                   GenELMClassifier(hidden_layer=srhl_sinsq),\n",
        "                   GenELMClassifier(hidden_layer=srhl_tribas),\n",
        "                   GenELMClassifier(hidden_layer=srhl_hardlim),\n",
        "                   GenELMClassifier(hidden_layer=srhl_rbf)]\n",
        "\n",
        "    return names, classifiers\n",
        "\n",
        "\n",
        "if __name__ == '__main__':  \n",
        "        \n",
        "  #datasets = make_datasets()\n",
        "  names, classifiers = make_classifiers()\n",
        "   \n",
        "  # pre-process dataset, split into training and test part\n",
        "  iris = load_iris()\n",
        "  X = iris['data']\n",
        "  y = iris['target']\n",
        "  \n",
        "  scaler = StandardScaler()\n",
        "  X_scaled = scaler.fit_transform(X)\n",
        "\n",
        "  # Split the data set into training and testing\n",
        "  X_train, X_test, y_train, y_test = train_test_split(X_scaled, y, test_size=0.3, random_state=True)\n",
        "  y_test = y_test.reshape(-1, )\n",
        "  y_train = y_train.reshape(-1, )\n",
        "\n",
        "  print(\"Training Shape\", X_train.shape, y_train.shape)\n",
        "  print(\"Testing Shape\", X_test.shape, y_test.shape)\n",
        "\n",
        "  # iterate over classifiers\n",
        "  for name, clf in zip(names, classifiers): \n",
        "    clf.fit(X_train, y_train)\n",
        "    score = clf.score(X_test, y_test)\n",
        "    print('Model %s score: %s' % (name, score))\n",
        "    "
      ],
      "execution_count": 11,
      "outputs": [
        {
          "output_type": "stream",
          "name": "stdout",
          "text": [
            "Training Shape (105, 4) (105,)\n",
            "Testing Shape (45, 4) (45,)\n",
            "Model ELM(10,tanh) score: 0.9333333333333333\n",
            "Model ELM(10,sinsq) score: 0.9111111111111111\n",
            "Model ELM(10,tribas) score: 0.9555555555555556\n",
            "Model ELM(hardlim) score: 0.9111111111111111\n",
            "Model ELM(20,rbf(0.1)) score: 0.9333333333333333\n"
          ]
        }
      ]
    },
    {
      "cell_type": "code",
      "metadata": {
        "colab": {
          "base_uri": "https://localhost:8080/",
          "height": 384
        },
        "id": "ZgiVjZiM3VVr",
        "outputId": "a004fe01-5dc5-4324-a5d2-ee556d167e4b"
      },
      "source": [
        "!pip install numpy --upgrade"
      ],
      "execution_count": 12,
      "outputs": [
        {
          "output_type": "stream",
          "name": "stdout",
          "text": [
            "Requirement already satisfied: numpy in /usr/local/lib/python3.7/dist-packages (1.15.4)\n",
            "Collecting numpy\n",
            "  Downloading numpy-1.21.2-cp37-cp37m-manylinux_2_12_x86_64.manylinux2010_x86_64.whl (15.7 MB)\n",
            "\u001b[K     |████████████████████████████████| 15.7 MB 194 kB/s \n",
            "\u001b[?25hInstalling collected packages: numpy\n",
            "  Attempting uninstall: numpy\n",
            "    Found existing installation: numpy 1.15.4\n",
            "    Uninstalling numpy-1.15.4:\n",
            "      Successfully uninstalled numpy-1.15.4\n",
            "\u001b[31mERROR: pip's dependency resolver does not currently take into account all the packages that are installed. This behaviour is the source of the following dependency conflicts.\n",
            "tensorflow 2.6.0 requires numpy~=1.19.2, but you have numpy 1.21.2 which is incompatible.\n",
            "elm 0.1.3 requires numpy==1.15.4, but you have numpy 1.21.2 which is incompatible.\n",
            "datascience 0.10.6 requires folium==0.2.1, but you have folium 0.8.3 which is incompatible.\n",
            "albumentations 0.1.12 requires imgaug<0.2.7,>=0.2.5, but you have imgaug 0.2.9 which is incompatible.\u001b[0m\n",
            "Successfully installed numpy-1.21.2\n"
          ]
        },
        {
          "output_type": "display_data",
          "data": {
            "application/vnd.colab-display-data+json": {
              "pip_warning": {
                "packages": [
                  "numpy"
                ]
              }
            }
          },
          "metadata": {}
        }
      ]
    },
    {
      "cell_type": "code",
      "metadata": {
        "colab": {
          "base_uri": "https://localhost:8080/"
        },
        "id": "DCc5zANicjMF",
        "outputId": "8bbb1469-963f-496f-a403-ce36d1dd21db"
      },
      "source": [
        "%%writefile elm.py\n",
        "\n",
        "import numpy as np\n",
        "np.random.seed(42)\n",
        "\n",
        "class ELM(object):  \n",
        "    \n",
        "  def __init__(self, inputSize, outputSize, hiddenSize):\n",
        "    \"\"\"\n",
        "    Initialize weight and bias between input layer and hidden layer\n",
        "    Parameters:\n",
        "    inputSize: int\n",
        "        The number of input layer dimensions or features in the training data\n",
        "    outputSize: int\n",
        "        The number of output layer dimensions\n",
        "    hiddenSize: int\n",
        "        The number of hidden layer dimensions        \n",
        "    \"\"\"    \n",
        "\n",
        "    self.inputSize = inputSize\n",
        "    self.outputSize = outputSize\n",
        "    self.hiddenSize = hiddenSize       \n",
        "    \n",
        "    # Initialize random weight with range [-0.5, 0.5]\n",
        "    self.weight = np.matrix(np.random.uniform(-0.5, 0.5, (self.hiddenSize, self.inputSize)))\n",
        "\n",
        "    # Initialize random bias with range [0, 1]\n",
        "    self.bias = np.matrix(np.random.uniform(0, 1, (1, self.hiddenSize)))\n",
        "    \n",
        "    self.H = 0\n",
        "    self.beta = 0\n",
        "\n",
        "  def sigmoid(self, x):\n",
        "    \"\"\"\n",
        "    Sigmoid activation function\n",
        "    \n",
        "    Parameters:\n",
        "    x: array-like or matrix\n",
        "        The value that the activation output will look for\n",
        "    Returns:      \n",
        "        The results of activation using sigmoid function\n",
        "    \"\"\"\n",
        "    return 1 / (1 + np.exp(-1 * x))\n",
        "\n",
        "  def predict(self, X):\n",
        "    \"\"\"\n",
        "    Predict the results of the training process using test data\n",
        "    Parameters:\n",
        "    X: array-like or matrix\n",
        "        Test data that will be used to determine output using ELM\n",
        "    Returns:\n",
        "        Predicted results or outputs from test data\n",
        "    \"\"\"\n",
        "    X = np.matrix(X)\n",
        "    y = self.sigmoid((X * self.weight.T) + self.bias) * self.beta\n",
        "\n",
        "    return y\n",
        "\n",
        "  def train(self, X, y):\n",
        "    \"\"\"\n",
        "    Extreme Learning Machine training process\n",
        "    Parameters:\n",
        "    X: array-like or matrix\n",
        "        Training data that contains the value of each feature\n",
        "    y: array-like or matrix\n",
        "        Training data that contains the value of the target (class)\n",
        "    Returns:\n",
        "        The results of the training process   \n",
        "    \"\"\"\n",
        "\n",
        "    X = np.matrix(X)\n",
        "    y = np.matrix(y)        \n",
        "    \n",
        "    # Calculate hidden layer output matrix (Hinit)\n",
        "    self.H = (X * self.weight.T) + self.bias\n",
        "\n",
        "    # Sigmoid activation function\n",
        "    self.H = self.sigmoid(self.H)\n",
        "\n",
        "    # Calculate the Moore-Penrose pseudoinverse matriks        \n",
        "    H_moore_penrose = np.linalg.inv(self.H.T * self.H) * self.H.T\n",
        "\n",
        "    # Calculate the output weight matrix beta\n",
        "    self.beta = H_moore_penrose * y\n",
        "\n",
        "    return self.H * self.beta"
      ],
      "execution_count": 1,
      "outputs": [
        {
          "output_type": "stream",
          "name": "stdout",
          "text": [
            "Writing elm.py\n"
          ]
        }
      ]
    },
    {
      "cell_type": "code",
      "metadata": {
        "colab": {
          "base_uri": "https://localhost:8080/"
        },
        "id": "n_XoJr7Y1zm-",
        "outputId": "d4b45bd0-377c-415d-a545-cde83e200202"
      },
      "source": [
        "%%writefile test_elm_iris.py\n",
        "from elm import ELM\n",
        "import numpy as np\n",
        "from sklearn import datasets\n",
        "from sklearn.preprocessing import StandardScaler\n",
        "from sklearn.datasets import load_iris\n",
        "from sklearn.model_selection import train_test_split\n",
        "from sklearn.metrics import accuracy_score\n",
        "import pandas as pd\n",
        "import matplotlib.pyplot as plt\n",
        "import seaborn as sns\n",
        "from sklearn.metrics import confusion_matrix, ConfusionMatrixDisplay\n",
        "from sklearn.metrics import accuracy_score, f1_score, precision_score, recall_score, classification_report, confusion_matrix\n",
        "\n",
        "np.random.seed(42)\n",
        "\n",
        "# Create random classification datasets with 1000 samples\n",
        "iris = load_iris()\n",
        "X = iris['data']\n",
        "y = iris['target']\n",
        "names = iris['target_names']\n",
        "feature_names = iris['feature_names']\n",
        "\n",
        "scaler = StandardScaler()\n",
        "X_scaled = scaler.fit_transform(X)\n",
        "# Create instance of ELM object with 10 hidden neuron\n",
        "elm = ELM(X.shape[1], 1, 10)\n",
        "\n",
        "# Split the data set into training and testing\n",
        "X_train, X_test, y_train, y_test = train_test_split(X_scaled, y, test_size=0.2, random_state=True)\n",
        "print(\"Training Shape\", X_train.shape, y_train.shape)\n",
        "print(\"Testing Shape\", X_test.shape, y_test.shape)\n",
        "\n",
        "# Train data\n",
        "elm.train(X_train,y_train.reshape(-1,1))\n",
        "\n",
        "# Make prediction from training process\n",
        "y_pred = elm.predict(X_test)\n",
        "y_pred = np.round(np.abs(y_pred))\n",
        "print(y_test, \"\\n\", y_pred.T)\n",
        "print('Accuracy: ', accuracy_score(y_test, y_pred))\n",
        "\n",
        "print(\"F1 Score: \", f1_score(y_test, y_pred, average=\"macro\"))\n",
        "print(\"Precision Score: \", precision_score(y_test, y_pred, average=\"macro\"))\n",
        "print(\"Recall Score: \", recall_score(y_test, y_pred, average=\"macro\")) \n",
        "print(classification_report(y_test, y_pred, target_names=names))"
      ],
      "execution_count": 2,
      "outputs": [
        {
          "output_type": "stream",
          "name": "stdout",
          "text": [
            "Writing test_elm_iris.py\n"
          ]
        }
      ]
    },
    {
      "cell_type": "code",
      "metadata": {
        "colab": {
          "base_uri": "https://localhost:8080/"
        },
        "id": "a9v-Qrln1_gf",
        "outputId": "02cd751e-4001-4f98-bada-1135883887f2"
      },
      "source": [
        "!python test_elm_iris.py"
      ],
      "execution_count": 3,
      "outputs": [
        {
          "output_type": "stream",
          "name": "stdout",
          "text": [
            "Training Shape (120, 4) (120,)\n",
            "Testing Shape (30, 4) (30,)\n",
            "[0 1 1 0 2 1 2 0 0 2 1 0 2 1 1 0 1 1 0 0 1 1 1 0 2 1 0 0 1 2] \n",
            " [[0. 1. 1. 0. 2. 1. 2. 0. 0. 2. 1. 0. 2. 1. 1. 0. 1. 1. 0. 0. 1. 2. 1. 0.\n",
            "  2. 1. 0. 0. 1. 2.]]\n",
            "Accuracy:  0.9666666666666667\n",
            "F1 Score:  0.9610256410256409\n",
            "Precision Score:  0.9523809523809524\n",
            "Recall Score:  0.9743589743589745\n",
            "              precision    recall  f1-score   support\n",
            "\n",
            "      setosa       1.00      1.00      1.00        11\n",
            "  versicolor       1.00      0.92      0.96        13\n",
            "   virginica       0.86      1.00      0.92         6\n",
            "\n",
            "    accuracy                           0.97        30\n",
            "   macro avg       0.95      0.97      0.96        30\n",
            "weighted avg       0.97      0.97      0.97        30\n",
            "\n"
          ]
        }
      ]
    },
    {
      "cell_type": "code",
      "metadata": {
        "colab": {
          "base_uri": "https://localhost:8080/"
        },
        "id": "Fzu3eUYudZFl",
        "outputId": "ac804636-ff3d-4738-c3b6-6a5735dbf492"
      },
      "source": [
        "%%writefile run_elm_iris.py\n",
        "import numpy as np\n",
        "from sklearn import datasets\n",
        "from sklearn.preprocessing import StandardScaler\n",
        "from sklearn.datasets import load_iris\n",
        "from sklearn.model_selection import train_test_split\n",
        "from sklearn.metrics import accuracy_score\n",
        "import pandas as pd\n",
        "import matplotlib.pyplot as plt\n",
        "import seaborn as sns\n",
        "from sklearn.metrics import confusion_matrix, ConfusionMatrixDisplay\n",
        "from sklearn.metrics import accuracy_score, f1_score, precision_score, recall_score, classification_report, confusion_matrix\n",
        "from sklearn.metrics import roc_curve, auc, roc_auc_score\n",
        "\n",
        "np.random.seed(42)\n",
        "\n",
        "class ELM(object):  \n",
        "    \n",
        "  def __init__(self, inputSize, outputSize, hiddenSize):\n",
        "    \"\"\"\n",
        "    Initialize weight and bias between input layer and hidden layer\n",
        "    Parameters:\n",
        "    inputSize: int\n",
        "        The number of input layer dimensions or features in the training data\n",
        "    outputSize: int\n",
        "        The number of output layer dimensions\n",
        "    hiddenSize: int\n",
        "        The number of hidden layer dimensions        \n",
        "    \"\"\"    \n",
        "\n",
        "    self.inputSize = inputSize\n",
        "    self.outputSize = outputSize\n",
        "    self.hiddenSize = hiddenSize       \n",
        "    \n",
        "    # Initialize random weight with range [-0.5, 0.5]\n",
        "    self.weight = np.matrix(np.random.uniform(-0.5, 0.5, (self.hiddenSize, self.inputSize)))\n",
        "\n",
        "    # Initialize random bias with range [0, 1]\n",
        "    self.bias = np.matrix(np.random.uniform(0, 1, (1, self.hiddenSize)))\n",
        "    \n",
        "    self.H = 0\n",
        "    self.beta = 0\n",
        "\n",
        "  def sigmoid(self, x):\n",
        "    \"\"\"\n",
        "    Sigmoid activation function\n",
        "    \n",
        "    Parameters:\n",
        "    x: array-like or matrix\n",
        "        The value that the activation output will look for\n",
        "    Returns:      \n",
        "        The results of activation using sigmoid function\n",
        "    \"\"\"\n",
        "    return 1 / (1 + np.exp(-1 * x))\n",
        "\n",
        "  def predict(self, X):\n",
        "    \"\"\"\n",
        "    Predict the results of the training process using test data\n",
        "    Parameters:\n",
        "    X: array-like or matrix\n",
        "        Test data that will be used to determine output using ELM\n",
        "    Returns:\n",
        "        Predicted results or outputs from test data\n",
        "    \"\"\"\n",
        "    X = np.matrix(X)\n",
        "    y = self.sigmoid((X * self.weight.T) + self.bias) * self.beta\n",
        "\n",
        "    return y\n",
        "\n",
        "  def train(self, X, y):\n",
        "    \"\"\"\n",
        "    Extreme Learning Machine training process\n",
        "    Parameters:\n",
        "    X: array-like or matrix\n",
        "        Training data that contains the value of each feature\n",
        "    y: array-like or matrix\n",
        "        Training data that contains the value of the target (class)\n",
        "    Returns:\n",
        "        The results of the training process   \n",
        "    \"\"\"\n",
        "\n",
        "    X = np.matrix(X)\n",
        "    y = np.matrix(y)        \n",
        "    \n",
        "    # Calculate hidden layer output matrix (Hinit)\n",
        "    self.H = (X * self.weight.T) + self.bias\n",
        "\n",
        "    # Sigmoid activation function\n",
        "    self.H = self.sigmoid(self.H)\n",
        "\n",
        "    # Calculate the Moore-Penrose pseudoinverse matriks        \n",
        "    H_moore_penrose = np.linalg.inv(self.H.T * self.H) * self.H.T\n",
        "\n",
        "    # Calculate the output weight matrix beta\n",
        "    self.beta = H_moore_penrose * y\n",
        "\n",
        "    return self.H * self.beta\n",
        "\n",
        "def cm_analysis(y_true, y_pred, labels, ymap=None, figsize=(10,10)):\n",
        "  \"\"\"\n",
        "  Generate matrix plot of confusion matrix with pretty annotations.\n",
        "  The plot image is saved to disk.\n",
        "  args: \n",
        "    y_true:    true label of the data, with shape (nsamples,)\n",
        "    y_pred:    prediction of the data, with shape (nsamples,)\n",
        "    filename:  filename of figure file to save\n",
        "    labels:    string array, name the order of class labels in the confusion matrix.\n",
        "                use `clf.classes_` if using scikit-learn models.\n",
        "                with shape (nclass,).\n",
        "    ymap:      dict: any -> string, length == nclass.\n",
        "                if not None, map the labels & ys to more understandable strings.\n",
        "                Caution: original y_true, y_pred and labels must align.\n",
        "    figsize:   the size of the figure plotted.\n",
        "  \"\"\"\n",
        "  if ymap is not None:\n",
        "      y_pred = [ymap[yi] for yi in y_pred]\n",
        "      y_true = [ymap[yi] for yi in y_true]\n",
        "      labels = [ymap[yi] for yi in labels]\n",
        "  cm = confusion_matrix(y_true, y_pred)\n",
        "  cm_sum = np.sum(cm, axis=1, keepdims=True)\n",
        "  cm_perc = cm / cm_sum.astype(float) * 100\n",
        "  annot = np.empty_like(cm).astype(str)\n",
        "  nrows, ncols = cm.shape\n",
        "  for i in range(nrows):\n",
        "      for j in range(ncols):\n",
        "          c = cm[i, j]\n",
        "          p = cm_perc[i, j]\n",
        "          if i == j:\n",
        "              s = cm_sum[i]\n",
        "              annot[i, j] = '%.1f%%\\n%d/%d' % (p, c, s)\n",
        "          elif c == 0:\n",
        "              annot[i, j] = ''\n",
        "          else:\n",
        "              annot[i, j] = '%.1f%%\\n%d' % (p, c)\n",
        "  \n",
        "  cm = pd.DataFrame(cm, index=labels, columns=labels)\n",
        "  cm.index.name = 'Actual'\n",
        "  cm.columns.name = 'Predicted'\n",
        "  fig, ax = plt.subplots(figsize=figsize)\n",
        "  sns.heatmap(cm, annot=annot, cmap=\"YlGnBu\", fmt='', ax=ax, linewidths=.5)\n",
        "  #plt.savefig(filename)\n",
        "  plt.show()\n",
        "\n",
        "# Create random classification datasets with 1000 samples\n",
        "iris = load_iris()\n",
        "X = iris['data']\n",
        "y = iris['target']\n",
        "names = iris['target_names']\n",
        "feature_names = iris['feature_names']\n",
        "\n",
        "scaler = StandardScaler()\n",
        "X_scaled = scaler.fit_transform(X)\n",
        "# Create instance of ELM object with 10 hidden neuron\n",
        "elm = ELM(X.shape[1], 1, 10)\n",
        "\n",
        "# Split the data set into training and testing\n",
        "X_train, X_test, y_train, y_test = train_test_split(X_scaled, y, test_size=0.2, random_state=True)\n",
        "print(\"Training Shape\", X_train.shape, y_train.shape)\n",
        "print(\"Testing Shape\", X_test.shape, y_test.shape)\n",
        "\n",
        "# Train data\n",
        "elm.train(X_train,y_train.reshape(-1,1))\n",
        "\n",
        "# Make prediction from training process\n",
        "y_pred = elm.predict(X_test)\n",
        "y_pred = np.round(np.abs(y_pred))\n",
        "print(y_test, \"\\n\", y_pred.T)\n",
        "\n",
        "print(\"\\nAccuracy: \", accuracy_score(y_test, y_pred))\n",
        "print(\"F1 Score: \", f1_score(y_test, y_pred, average=\"macro\"))\n",
        "print(\"Precision Score: \", precision_score(y_test, y_pred, average=\"macro\"))\n",
        "print(\"Recall Score: \", recall_score(y_test, y_pred, average=\"macro\")) \n",
        "print(\"\\n\", classification_report(y_test, y_pred, target_names=names))\n",
        "\n",
        "cm_analysis(y_test, y_pred, names, ymap=None, figsize=(6,6))\n",
        "cm = confusion_matrix(y_test, y_pred, normalize='all')\n",
        "cmd = ConfusionMatrixDisplay(cm, display_labels=names)\n",
        "cmd.plot()\n",
        "cmd.ax_.set(xlabel='Predicted', ylabel='True')\n",
        "#plt.savefig(\"Confusion_Matrix.png\")"
      ],
      "execution_count": 7,
      "outputs": [
        {
          "output_type": "stream",
          "name": "stdout",
          "text": [
            "Overwriting run_elm_iris.py\n"
          ]
        }
      ]
    },
    {
      "cell_type": "code",
      "metadata": {
        "id": "0aRjWJ2vzHsQ"
      },
      "source": [
        "%matplotlib inline"
      ],
      "execution_count": 8,
      "outputs": []
    },
    {
      "cell_type": "code",
      "metadata": {
        "colab": {
          "base_uri": "https://localhost:8080/",
          "height": 756
        },
        "id": "7dQAqsZRerQD",
        "outputId": "b3c7a13e-407c-4e4e-e851-c45e1a4bfd55"
      },
      "source": [
        "%run run_elm_iris.py"
      ],
      "execution_count": 9,
      "outputs": [
        {
          "output_type": "stream",
          "name": "stdout",
          "text": [
            "Training Shape (120, 4) (120,)\n",
            "Testing Shape (30, 4) (30,)\n",
            "[0 1 1 0 2 1 2 0 0 2 1 0 2 1 1 0 1 1 0 0 1 1 1 0 2 1 0 0 1 2] \n",
            " [[0. 1. 1. 0. 2. 1. 2. 0. 0. 2. 1. 0. 2. 1. 1. 0. 1. 1. 0. 0. 1. 2. 1. 0.\n",
            "  2. 1. 0. 0. 1. 2.]]\n",
            "\n",
            "Accuracy:  0.9666666666666667\n",
            "F1 Score:  0.9610256410256409\n",
            "Precision Score:  0.9523809523809524\n",
            "Recall Score:  0.9743589743589745\n",
            "\n",
            "               precision    recall  f1-score   support\n",
            "\n",
            "      setosa       1.00      1.00      1.00        11\n",
            "  versicolor       1.00      0.92      0.96        13\n",
            "   virginica       0.86      1.00      0.92         6\n",
            "\n",
            "    accuracy                           0.97        30\n",
            "   macro avg       0.95      0.97      0.96        30\n",
            "weighted avg       0.97      0.97      0.97        30\n",
            "\n"
          ]
        },
        {
          "output_type": "display_data",
          "data": {
            "image/png": "[encoded data removed]",
            "text/plain": [
              "<Figure size 432x432 with 2 Axes>"
            ]
          },
          "metadata": {
            "needs_background": "light"
          }
        }
      ]
    },
    {
      "cell_type": "code",
      "metadata": {
        "colab": {
          "base_uri": "https://localhost:8080/"
        },
        "id": "uS5RjKtx4evq",
        "outputId": "2b305020-16f5-40f2-e126-5bbd3f450bd6"
      },
      "source": [
        "#https://hpelm.readthedocs.io/en/latest/\n",
        "!pip install git+https://github.com/akusok/hpelm"
      ],
      "execution_count": 10,
      "outputs": [
        {
          "output_type": "stream",
          "name": "stdout",
          "text": [
            "Collecting git+https://github.com/akusok/hpelm\n",
            "  Cloning https://github.com/akusok/hpelm to /tmp/pip-req-build-9o847hlk\n",
            "  Running command git clone -q https://github.com/akusok/hpelm /tmp/pip-req-build-9o847hlk\n",
            "Requirement already satisfied: numpy in /usr/local/lib/python3.7/dist-packages (from hpelm==1.0.9) (1.21.2)\n",
            "Requirement already satisfied: scipy>=0.12 in /usr/local/lib/python3.7/dist-packages (from hpelm==1.0.9) (1.4.1)\n",
            "Requirement already satisfied: tables in /usr/local/lib/python3.7/dist-packages (from hpelm==1.0.9) (3.4.4)\n",
            "Requirement already satisfied: fasteners in /usr/local/lib/python3.7/dist-packages (from hpelm==1.0.9) (0.16.3)\n",
            "Requirement already satisfied: six in /usr/local/lib/python3.7/dist-packages (from hpelm==1.0.9) (1.15.0)\n",
            "Requirement already satisfied: nose in /usr/local/lib/python3.7/dist-packages (from hpelm==1.0.9) (1.3.7)\n",
            "Requirement already satisfied: numexpr>=2.5.2 in /usr/local/lib/python3.7/dist-packages (from tables->hpelm==1.0.9) (2.7.3)\n"
          ]
        }
      ]
    },
    {
      "cell_type": "code",
      "metadata": {
        "colab": {
          "base_uri": "https://localhost:8080/",
          "height": 704
        },
        "id": "A3CwNV7yJfq2",
        "outputId": "78eed809-54db-4725-8aaf-9169c3969adf"
      },
      "source": [
        "import warnings\n",
        "import numpy as np\n",
        "from sklearn.preprocessing import StandardScaler\n",
        "from sklearn.datasets import load_iris\n",
        "from sklearn.model_selection import train_test_split\n",
        "import pandas as pd\n",
        "import matplotlib.pyplot as plt\n",
        "import numpy as np\n",
        "from hpelm import ELM\n",
        "from mlxtend.plotting import plot_confusion_matrix\n",
        "from scipy import ndimage\n",
        "import seaborn as sns\n",
        "from sklearn.metrics import confusion_matrix, ConfusionMatrixDisplay\n",
        "from sklearn.metrics import accuracy_score, f1_score, precision_score, recall_score, classification_report, confusion_matrix\n",
        "from sklearn.metrics import roc_curve, auc, roc_auc_score\n",
        "%matplotlib inline\n",
        "\n",
        "np.random.seed(42)\n",
        "\n",
        "def cm_analysis(y_true, y_pred, labels, ymap=None, figsize=(10,10)):\n",
        "  \"\"\"\n",
        "  Generate matrix plot of confusion matrix with pretty annotations.\n",
        "  The plot image is saved to disk.\n",
        "  args: \n",
        "    y_true:    true label of the data, with shape (nsamples,)\n",
        "    y_pred:    prediction of the data, with shape (nsamples,)\n",
        "    filename:  filename of figure file to save\n",
        "    labels:    string array, name the order of class labels in the confusion matrix.\n",
        "                use `clf.classes_` if using scikit-learn models.\n",
        "                with shape (nclass,).\n",
        "    ymap:      dict: any -> string, length == nclass.\n",
        "                if not None, map the labels & ys to more understandable strings.\n",
        "                Caution: original y_true, y_pred and labels must align.\n",
        "    figsize:   the size of the figure plotted.\n",
        "  \"\"\"\n",
        "  if ymap is not None:\n",
        "      y_pred = [ymap[yi] for yi in y_pred]\n",
        "      y_true = [ymap[yi] for yi in y_true]\n",
        "      labels = [ymap[yi] for yi in labels]\n",
        "  cm = confusion_matrix(y_true, y_pred, normalize='all')\n",
        "  cm_sum = np.sum(cm, axis=1, keepdims=True)\n",
        "  cm_perc = cm / cm_sum.astype(float) * 100\n",
        "  annot = np.empty_like(cm).astype(str)\n",
        "  nrows, ncols = cm.shape\n",
        "  for i in range(nrows):\n",
        "      for j in range(ncols):\n",
        "          c = cm[i, j]\n",
        "          p = cm_perc[i, j]\n",
        "          if i == j:\n",
        "              s = cm_sum[i]\n",
        "              annot[i, j] = '%.1f%%\\n%d/%d' % (p, c, s)\n",
        "          elif c == 0:\n",
        "              annot[i, j] = ''\n",
        "          else:\n",
        "              annot[i, j] = '%.1f%%\\n%d' % (p, c)\n",
        "  \n",
        "  cm = pd.DataFrame(cm, index=labels, columns=labels)\n",
        "  cm.index.name = 'Actual'\n",
        "  cm.columns.name = 'Predicted'\n",
        "  fig, ax = plt.subplots(figsize=figsize)\n",
        "  sns.heatmap(cm, annot=annot, cmap=\"YlGnBu\", fmt='', ax=ax, linewidths=.5)\n",
        "  #plt.savefig(filename)\n",
        "  plt.show()\n",
        "\n",
        "\n",
        "# Threshold value for classification (<= negative, > positive)\n",
        "THRESHOLD = 0.5\n",
        "\n",
        "# Create random classification datasets with 1000 samples\n",
        "iris = load_iris()\n",
        "X = iris['data']\n",
        "y = iris['target']\n",
        "names = iris['target_names']\n",
        "feature_names = iris['feature_names']\n",
        "\n",
        "scaler = StandardScaler()\n",
        "X_scaled = scaler.fit_transform(X)\n",
        "\n",
        "# Create ELM\n",
        "elm = ELM(4, 1)\n",
        "elm.add_neurons(10, 'sigm')\n",
        "elm.add_neurons(9, 'lin')\n",
        "\n",
        "# Split the data set into training and testing\n",
        "X_train, X_test, y_train, y_test = train_test_split(X_scaled, y, test_size=0.1, random_state=True)\n",
        "print(\"Training Shape\", X_train.shape, y_train.shape)\n",
        "print(\"Testing Shape\", X_test.shape, y_test.shape)\n",
        "\n",
        "# Train data\n",
        "with warnings.catch_warnings():\n",
        "  warnings.simplefilter(\"ignore\")\n",
        "  elm.train(X_train, y_train)\n",
        "  y_pred = elm.predict(X_test)\n",
        "  y_pred = np.round(np.abs(y_pred))\n",
        "  y_pred = np.array(y_pred)\n",
        "  y_pred = np.where(y_pred >= 2, 2, y_pred)\n",
        "\n",
        "print('\\nAccuracy: ', accuracy_score(y_test, y_pred))\n",
        "print(\"F1 Score: \", f1_score(y_test, y_pred, average=\"macro\"))\n",
        "print(\"Precision Score: \", precision_score(y_test, y_pred, average=\"macro\"))\n",
        "print(\"Recall Score: \", recall_score(y_test, y_pred, average=\"macro\")) \n",
        "print(\"\\n\",classification_report(y_test, y_pred, target_names=names))\n",
        "\n",
        "cm_analysis(y_test, y_pred, names, ymap=None, figsize=(6,6))"
      ],
      "execution_count": 11,
      "outputs": [
        {
          "output_type": "stream",
          "name": "stdout",
          "text": [
            "Training Shape (135, 4) (135,)\n",
            "Testing Shape (15, 4) (15,)\n",
            "\n",
            "Accuracy:  1.0\n",
            "F1 Score:  1.0\n",
            "Precision Score:  1.0\n",
            "Recall Score:  1.0\n",
            "\n",
            "               precision    recall  f1-score   support\n",
            "\n",
            "      setosa       1.00      1.00      1.00         5\n",
            "  versicolor       1.00      1.00      1.00         6\n",
            "   virginica       1.00      1.00      1.00         4\n",
            "\n",
            "    accuracy                           1.00        15\n",
            "   macro avg       1.00      1.00      1.00        15\n",
            "weighted avg       1.00      1.00      1.00        15\n",
            "\n"
          ]
        },
        {
          "output_type": "display_data",
          "data": {
            "image/png": "[encoded data removed]",
            "text/plain": [
              "<Figure size 432x432 with 2 Axes>"
            ]
          },
          "metadata": {
            "needs_background": "light"
          }
        }
      ]
    }
  ]
}